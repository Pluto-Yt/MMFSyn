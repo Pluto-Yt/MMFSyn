{
 "cells": [
  {
   "cell_type": "code",
   "execution_count": 10,
   "metadata": {},
   "outputs": [
    {
     "name": "stdout",
     "output_type": "stream",
     "text": [
      "(39, 3384)\n"
     ]
    }
   ],
   "source": [
    "import numpy as np\n",
    "data = np.load('/home/yt/code/new/PRODeepSyn/cell/data/target_ge.npy')\n",
    "print(data.shape)"
   ]
  }
 ],
 "metadata": {
  "interpreter": {
   "hash": "e89b3e8de11624b76582d21ef09c71ced77a295376f2ecd471429db40ad16483"
  },
  "kernelspec": {
   "display_name": "Python 3.8.13 ('yt-torch')",
   "language": "python",
   "name": "python3"
  },
  "language_info": {
   "codemirror_mode": {
    "name": "ipython",
    "version": 3
   },
   "file_extension": ".py",
   "mimetype": "text/x-python",
   "name": "python",
   "nbconvert_exporter": "python",
   "pygments_lexer": "ipython3",
   "version": "3.8.13"
  },
  "orig_nbformat": 4
 },
 "nbformat": 4,
 "nbformat_minor": 2
}
